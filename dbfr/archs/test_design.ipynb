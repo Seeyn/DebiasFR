{
 "cells": [
  {
   "cell_type": "code",
   "execution_count": 1,
   "metadata": {},
   "outputs": [
    {
     "name": "stderr",
     "output_type": "stream",
     "text": [
      "/home/zelin/anaconda3/envs/GFPGAN/lib/python3.7/site-packages/tqdm/auto.py:22: TqdmWarning: IProgress not found. Please update jupyter and ipywidgets. See https://ipywidgets.readthedocs.io/en/stable/user_install.html\n",
      "  from .autonotebook import tqdm as notebook_tqdm\n"
     ]
    }
   ],
   "source": [
    "import torch\n",
    "a = torch.zeros(10)\n",
    "b = torch.zeros(10)\n",
    "a[0] += 1\n",
    "b[1] += 1\n",
    "age = torch.stack([a,b])\n",
    "age_reprensentation = torch.rand((2,10,18,512))"
   ]
  },
  {
   "cell_type": "code",
   "execution_count": 41,
   "metadata": {},
   "outputs": [
    {
     "data": {
      "text/plain": [
       "tensor([[1., 0., 0., 0., 0., 0., 0., 0., 0., 0.],\n",
       "        [0., 1., 0., 0., 0., 0., 0., 0., 0., 0.]])"
      ]
     },
     "execution_count": 41,
     "metadata": {},
     "output_type": "execute_result"
    }
   ],
   "source": [
    "c = torch.zeros(2,10)\n",
    "for i in range(2):\n",
    "    c[i][[0,1][i]] = 1\n",
    "c"
   ]
  },
  {
   "cell_type": "code",
   "execution_count": 15,
   "metadata": {},
   "outputs": [
    {
     "data": {
      "text/plain": [
       "tensor(300)"
      ]
     },
     "execution_count": 15,
     "metadata": {},
     "output_type": "execute_result"
    }
   ],
   "source": [
    "import torch\n",
    "a = torch.rand(10,10,3)\n",
    "b = a.flatten()\n",
    "c = b.view(10,10,3)\n",
    "((a-c)==0).sum()\n",
    "length = b.shape[0]\n",
    "d = torch.zeros(513*513*3)\n",
    "d[:length] = b\n",
    "d[-1] = length\n",
    "e = d[:int(d[-1].item())]\n",
    "original_length = int((d[-1]/3).sqrt().item())\n",
    "f = e.view(original_length,original_length,3)\n",
    "((a-f)==0).sum()"
   ]
  },
  {
   "cell_type": "code",
   "execution_count": 56,
   "metadata": {},
   "outputs": [
    {
     "data": {
      "text/plain": [
       "True"
      ]
     },
     "execution_count": 56,
     "metadata": {},
     "output_type": "execute_result"
    }
   ],
   "source": [
    "import numpy as np\n",
    "\n",
    "type(np.zeros(100)) is np.ndarray"
   ]
  },
  {
   "cell_type": "code",
   "execution_count": 51,
   "metadata": {},
   "outputs": [
    {
     "name": "stdout",
     "output_type": "stream",
     "text": [
      "torch.Size([1])\n"
     ]
    }
   ],
   "source": [
    "for i in zip(*[torch.zeros((1,41,41)),torch.zeros((1,1))]):\n",
    "    print(i[1].shape)"
   ]
  },
  {
   "cell_type": "code",
   "execution_count": 44,
   "metadata": {},
   "outputs": [
    {
     "data": {
      "text/plain": [
       "6"
      ]
     },
     "execution_count": 44,
     "metadata": {},
     "output_type": "execute_result"
    }
   ],
   "source": [
    "def cal(a,b):\n",
    "    return a+b\n",
    "cal(*[5,1])"
   ]
  },
  {
   "cell_type": "code",
   "execution_count": 35,
   "metadata": {},
   "outputs": [
    {
     "data": {
      "text/plain": [
       "tensor([[0.0179, 0.9335, 0.6417,  ..., 0.6251, 0.0137, 0.7818],\n",
       "        [0.1004, 0.9747, 0.3670,  ..., 0.2510, 0.9682, 0.6177],\n",
       "        [0.2818, 0.7724, 0.2985,  ..., 0.6144, 0.7845, 0.8550],\n",
       "        ...,\n",
       "        [0.9342, 0.9256, 0.8677,  ..., 0.7678, 0.7276, 0.0316],\n",
       "        [0.1072, 0.4825, 0.9278,  ..., 0.9166, 0.6448, 0.5595],\n",
       "        [0.1404, 0.1458, 0.9652,  ..., 0.5565, 0.8684, 0.0304]])"
      ]
     },
     "execution_count": 35,
     "metadata": {},
     "output_type": "execute_result"
    }
   ],
   "source": [
    "(age.unsqueeze(2).unsqueeze(2) * age_reprensentation).sum(dim=1)[0]"
   ]
  },
  {
   "cell_type": "code",
   "execution_count": 36,
   "metadata": {},
   "outputs": [
    {
     "data": {
      "text/plain": [
       "tensor([[0.0179, 0.9335, 0.6417,  ..., 0.6251, 0.0137, 0.7818],\n",
       "        [0.1004, 0.9747, 0.3670,  ..., 0.2510, 0.9682, 0.6177],\n",
       "        [0.2818, 0.7724, 0.2985,  ..., 0.6144, 0.7845, 0.8550],\n",
       "        ...,\n",
       "        [0.9342, 0.9256, 0.8677,  ..., 0.7678, 0.7276, 0.0316],\n",
       "        [0.1072, 0.4825, 0.9278,  ..., 0.9166, 0.6448, 0.5595],\n",
       "        [0.1404, 0.1458, 0.9652,  ..., 0.5565, 0.8684, 0.0304]])"
      ]
     },
     "execution_count": 36,
     "metadata": {},
     "output_type": "execute_result"
    }
   ],
   "source": [
    "(age.unsqueeze(2).unsqueeze(2) * age_reprensentation)[0][0]"
   ]
  }
 ],
 "metadata": {
  "kernelspec": {
   "display_name": "GFPGAN",
   "language": "python",
   "name": "python3"
  },
  "language_info": {
   "codemirror_mode": {
    "name": "ipython",
    "version": 3
   },
   "file_extension": ".py",
   "mimetype": "text/x-python",
   "name": "python",
   "nbconvert_exporter": "python",
   "pygments_lexer": "ipython3",
   "version": "3.7.13"
  },
  "orig_nbformat": 4,
  "vscode": {
   "interpreter": {
    "hash": "a9ae5fbbaf211f8a9f91e526e056ad9c71f45571819b0a98419fe9c24eb5cd63"
   }
  }
 },
 "nbformat": 4,
 "nbformat_minor": 2
}
